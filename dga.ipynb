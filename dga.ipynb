{
 "cells": [
  {
   "cell_type": "code",
   "execution_count": 1,
   "metadata": {},
   "outputs": [],
   "source": [
    "#εγκατάσταση πακέτου pycaret (https://pycaret.org/)\n",
    "#!pip install pycaret\n",
    "#***ΠΡΟΣΟΧΗ*** μετά την εγκατάσταση χρειάζεται restart το session\n",
    "#***θα σας ζητηθεί επανεκκίνηση με σχετικό κόκκινο μήνυμα μετά την ολοκλήρωση της εγκατάστασης\n",
    "#***Πατήστε το κουμπί RESTART SESSION στο σχετικό μήνυμα"
   ]
  },
  {
   "cell_type": "code",
   "execution_count": 2,
   "metadata": {},
   "outputs": [],
   "source": [
    "#εισαγωγή βιβλιοθηκών - πακέτων\n",
    "import pycaret\n",
    "import pandas as pd\n",
    "import numpy as np\n",
    "import matplotlib.pyplot as plt\n",
    "from pycaret.classification import *"
   ]
  },
  {
   "cell_type": "code",
   "execution_count": 3,
   "metadata": {},
   "outputs": [
    {
     "name": "stdout",
     "output_type": "stream",
     "text": [
      "(117588, 6)\n"
     ]
    }
   ],
   "source": [
    "#εισαγωγή του συνόλου δεδομένων\n",
    "url = 'https://raw.githubusercontent.com/kdemertzis/EKPA/main/Data/dga_domain.csv'\n",
    "df = pd.read_csv(url)\n",
    "#έλεγχος σχήματος συνόλου δεδομένων\n",
    "print(df.shape)"
   ]
  },
  {
   "cell_type": "code",
   "execution_count": 4,
   "metadata": {},
   "outputs": [
    {
     "name": "stdout",
     "output_type": "stream",
     "text": [
      "       length   entropy   alexa_grams   word_grams       diff  class\n",
      "41006      12  3.084963     51.956885    60.564948  -8.608063  legit\n",
      "70781       4  1.500000      4.247482     5.758950  -1.511467  legit\n",
      "53317      12  2.751629     38.608411    55.743879 -17.135468  legit\n",
      "33668       9  2.641604     24.306756    16.037465   8.269291  legit\n",
      "73590      10  2.721928     15.326187    33.212897 -17.886710  legit\n"
     ]
    }
   ],
   "source": [
    "#ανακάτεμα των δεδομένων\n",
    "df = df.sample(frac = 1)\n",
    "print(df.head())"
   ]
  },
  {
   "cell_type": "code",
   "execution_count": 5,
   "metadata": {},
   "outputs": [],
   "source": [
    "#εγκατάσταση του συνόλου δεδομένων\n",
    "grid = setup(data=df, target=df.columns[-1], html=False, verbose=False)"
   ]
  },
  {
   "cell_type": "code",
   "execution_count": 6,
   "metadata": {},
   "outputs": [
    {
     "name": "stderr",
     "output_type": "stream",
     "text": [
      "                                                           "
     ]
    },
    {
     "name": "stdout",
     "output_type": "stream",
     "text": [
      "                                    Model  Accuracy     AUC  Recall   Prec.  \\\n",
      "lightgbm  Light Gradient Boosting Machine    0.8879  0.9095  0.8879  0.8878   \n",
      "gbc          Gradient Boosting Classifier    0.8878  0.9070  0.8878  0.8879   \n",
      "rf               Random Forest Classifier    0.8803  0.8926  0.8803  0.8762   \n",
      "lr                    Logistic Regression    0.8742  0.8764  0.8742  0.8722   \n",
      "knn                K Neighbors Classifier    0.8723  0.8643  0.8723  0.8671   \n",
      "et                 Extra Trees Classifier    0.8704  0.8850  0.8704  0.8649   \n",
      "qda       Quadratic Discriminant Analysis    0.8639  0.8772  0.8639  0.8688   \n",
      "svm                   SVM - Linear Kernel    0.8579  0.0000  0.8579  0.8536   \n",
      "lda          Linear Discriminant Analysis    0.8496  0.8600  0.8496  0.8537   \n",
      "ridge                    Ridge Classifier    0.8311  0.0000  0.8311  0.8519   \n",
      "dt               Decision Tree Classifier    0.8259  0.7874  0.8259  0.8279   \n",
      "ada                  Ada Boost Classifier    0.7668  0.5765  0.7668  0.6397   \n",
      "nb                            Naive Bayes    0.7645  0.7798  0.7645  0.7377   \n",
      "dummy                    Dummy Classifier    0.7342  0.0000  0.7342  0.5391   \n",
      "\n",
      "              F1   Kappa     MCC  TT (Sec)  \n",
      "lightgbm  0.8794  0.6969  0.7130      0.86  \n",
      "gbc       0.8788  0.6957  0.7128     56.69  \n",
      "rf        0.8737  0.6836  0.6925      8.68  \n",
      "lr        0.8652  0.6603  0.6752      5.75  \n",
      "knn       0.8656  0.6637  0.6716      0.25  \n",
      "et        0.8650  0.6632  0.6682      3.43  \n",
      "qda       0.8538  0.6384  0.6534      0.06  \n",
      "svm       0.8550  0.6397  0.6412      3.34  \n",
      "lda       0.8370  0.5767  0.6030      0.12  \n",
      "ridge     0.7975  0.4750  0.5399      0.08  \n",
      "dt        0.8269  0.5771  0.5772      1.03  \n",
      "ada       0.6733  0.2211  0.3335      4.53  \n",
      "nb        0.7426  0.3651  0.3753      0.06  \n",
      "dummy     0.6217  0.0000  0.0000      0.05  \n"
     ]
    },
    {
     "name": "stderr",
     "output_type": "stream",
     "text": [
      "\r"
     ]
    }
   ],
   "source": [
    "#σύγκριση των διαθέσιμων μοντέλων ΜΜ\n",
    "best = compare_models(cross_validation=False, n_select = 1)\n",
    "%load_ext tensorboard"
   ]
  },
  {
   "cell_type": "code",
   "execution_count": 7,
   "metadata": {},
   "outputs": [
    {
     "name": "stdout",
     "output_type": "stream",
     "text": [
      "LGBMClassifier(boosting_type='gbdt', class_weight=None, colsample_bytree=1.0,\n",
      "               importance_type='split', learning_rate=0.1, max_depth=-1,\n",
      "               min_child_samples=20, min_child_weight=0.001, min_split_gain=0.0,\n",
      "               n_estimators=100, n_jobs=-1, num_leaves=31, objective=None,\n",
      "               random_state=5480, reg_alpha=0.0, reg_lambda=0.0, subsample=1.0,\n",
      "               subsample_for_bin=200000, subsample_freq=0)\n"
     ]
    }
   ],
   "source": [
    "#αναφορά των υπερπαραμέτρων του μοντέλου με την υψηλότερη απόδοση\n",
    "print(best)"
   ]
  },
  {
   "cell_type": "code",
   "execution_count": 8,
   "metadata": {},
   "outputs": [
    {
     "data": {
      "application/vnd.jupyter.widget-view+json": {
       "model_id": "70f43543fa5a48fd89a539b9302f4a8d",
       "version_major": 2,
       "version_minor": 0
      },
      "text/plain": [
       "interactive(children=(ToggleButtons(description='Plot Type:', icons=('',), options=(('Pipeline Plot', 'pipelin…"
      ]
     },
     "metadata": {},
     "output_type": "display_data"
    }
   ],
   "source": [
    "#μέτρα αξιολόγησης του μοντέλου με την υψηλότερη απόδοση\n",
    "evaluate_model(best)"
   ]
  }
 ],
 "metadata": {
  "kernelspec": {
   "display_name": "Python 3",
   "language": "python",
   "name": "python3"
  },
  "language_info": {
   "codemirror_mode": {
    "name": "ipython",
    "version": 3
   },
   "file_extension": ".py",
   "mimetype": "text/x-python",
   "name": "python",
   "nbconvert_exporter": "python",
   "pygments_lexer": "ipython3",
   "version": "3.11.9"
  },
  "vscode": {
   "interpreter": {
    "hash": "3b7e9cb8e453d6cda0fe8c8dd13f891a1f09162f0e7c66ffeae7751a7aecf00d"
   }
  }
 },
 "nbformat": 4,
 "nbformat_minor": 4
}
