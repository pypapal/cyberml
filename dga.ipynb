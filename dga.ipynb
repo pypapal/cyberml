{
 "cells": [
  {
   "cell_type": "code",
   "execution_count": 9,
   "metadata": {},
   "outputs": [],
   "source": [
    "#εγκατάσταση πακέτου pycaret (https://pycaret.org/)\n",
    "#!pip install pycaret\n",
    "#***ΠΡΟΣΟΧΗ*** μετά την εγκατάσταση χρειάζεται restart το session\n",
    "#***θα σας ζητηθεί επανεκκίνηση με σχετικό κόκκινο μήνυμα μετά την ολοκλήρωση της εγκατάστασης\n",
    "#***Πατήστε το κουμπί RESTART SESSION στο σχετικό μήνυμα"
   ]
  },
  {
   "cell_type": "code",
   "execution_count": 10,
   "metadata": {},
   "outputs": [],
   "source": [
    "#εισαγωγή βιβλιοθηκών - πακέτων\n",
    "import pycaret\n",
    "import pandas as pd\n",
    "import numpy as np\n",
    "import matplotlib.pyplot as plt\n",
    "from pycaret.classification import *"
   ]
  },
  {
   "cell_type": "code",
   "execution_count": 11,
   "metadata": {},
   "outputs": [
    {
     "name": "stdout",
     "output_type": "stream",
     "text": [
      "(117588, 6)\n"
     ]
    }
   ],
   "source": [
    "#εισαγωγή του συνόλου δεδομένων\n",
    "url = 'https://raw.githubusercontent.com/kdemertzis/EKPA/main/Data/dga_domain.csv'\n",
    "df = pd.read_csv(url)\n",
    "#έλεγχος σχήματος συνόλου δεδομένων\n",
    "print(df.shape)"
   ]
  },
  {
   "cell_type": "code",
   "execution_count": 12,
   "metadata": {},
   "outputs": [
    {
     "name": "stdout",
     "output_type": "stream",
     "text": [
      "        length   entropy   alexa_grams   word_grams       diff  class\n",
      "52837       14  3.378783     59.254938    78.634830 -19.379892  legit\n",
      "93646       11  3.095795     32.233192    58.344474 -26.111282    dga\n",
      "10303       11  2.913977     30.392314    35.501516  -5.109203  legit\n",
      "111643      28  3.553090     26.426813    40.373018 -13.946205    dga\n",
      "8149        11  3.027169     48.406966    48.216716   0.190250  legit\n"
     ]
    }
   ],
   "source": [
    "#ανακάτεμα των δεδομένων\n",
    "df = df.sample(frac = 1)\n",
    "print(df.head())"
   ]
  },
  {
   "cell_type": "code",
   "execution_count": 13,
   "metadata": {},
   "outputs": [],
   "source": [
    "#εγκατάσταση του συνόλου δεδομένων\n",
    "grid = setup(data=df, target=df.columns[-1], html=False, verbose=False)"
   ]
  },
  {
   "cell_type": "code",
   "execution_count": 14,
   "metadata": {},
   "outputs": [
    {
     "name": "stderr",
     "output_type": "stream",
     "text": [
      "                                                           "
     ]
    },
    {
     "name": "stdout",
     "output_type": "stream",
     "text": [
      "                                    Model  Accuracy     AUC  Recall   Prec.  \\\n",
      "lightgbm  Light Gradient Boosting Machine    0.8890  0.9121  0.8890  0.8893   \n",
      "gbc          Gradient Boosting Classifier    0.8886  0.9093  0.8886  0.8893   \n",
      "rf               Random Forest Classifier    0.8817  0.8947  0.8817  0.8778   \n",
      "lr                    Logistic Regression    0.8768  0.8765  0.8768  0.8751   \n",
      "knn                K Neighbors Classifier    0.8736  0.8668  0.8736  0.8686   \n",
      "et                 Extra Trees Classifier    0.8718  0.8868  0.8718  0.8664   \n",
      "svm                   SVM - Linear Kernel    0.8674  0.0000  0.8674  0.8777   \n",
      "qda       Quadratic Discriminant Analysis    0.8663  0.8818  0.8663  0.8678   \n",
      "lda          Linear Discriminant Analysis    0.8507  0.8602  0.8507  0.8547   \n",
      "ridge                    Ridge Classifier    0.8347  0.0000  0.8347  0.8436   \n",
      "dt               Decision Tree Classifier    0.8273  0.7882  0.8273  0.8289   \n",
      "nb                            Naive Bayes    0.7676  0.7794  0.7676  0.7414   \n",
      "ada                  Ada Boost Classifier    0.7672  0.5761  0.7672  0.6463   \n",
      "dummy                    Dummy Classifier    0.7342  0.0000  0.7342  0.5391   \n",
      "\n",
      "              F1   Kappa     MCC  TT (Sec)  \n",
      "lightgbm  0.8805  0.6995  0.7161      0.69  \n",
      "gbc       0.8795  0.6975  0.7153     55.92  \n",
      "rf        0.8749  0.6868  0.6960      8.67  \n",
      "lr        0.8682  0.6676  0.6822      4.28  \n",
      "knn       0.8668  0.6666  0.6748      0.24  \n",
      "et        0.8665  0.6669  0.6719      2.36  \n",
      "svm       0.8506  0.6214  0.6601      3.20  \n",
      "qda       0.8582  0.6495  0.6600      0.06  \n",
      "lda       0.8382  0.5798  0.6060      0.07  \n",
      "ridge     0.8017  0.4871  0.5520      0.07  \n",
      "dt        0.8281  0.5800  0.5801      1.07  \n",
      "nb        0.7458  0.3716  0.3825      0.06  \n",
      "ada       0.6740  0.2211  0.3348      4.44  \n",
      "dummy     0.6217  0.0000  0.0000      0.04  \n",
      "The tensorboard extension is already loaded. To reload it, use:\n",
      "  %reload_ext tensorboard\n"
     ]
    },
    {
     "name": "stderr",
     "output_type": "stream",
     "text": [
      "\r"
     ]
    }
   ],
   "source": [
    "#σύγκριση των διαθέσιμων μοντέλων ΜΜ\n",
    "best = compare_models(cross_validation=False, n_select = 1)\n",
    "%load_ext tensorboard"
   ]
  },
  {
   "cell_type": "code",
   "execution_count": 15,
   "metadata": {},
   "outputs": [
    {
     "name": "stdout",
     "output_type": "stream",
     "text": [
      "LGBMClassifier(boosting_type='gbdt', class_weight=None, colsample_bytree=1.0,\n",
      "               importance_type='split', learning_rate=0.1, max_depth=-1,\n",
      "               min_child_samples=20, min_child_weight=0.001, min_split_gain=0.0,\n",
      "               n_estimators=100, n_jobs=-1, num_leaves=31, objective=None,\n",
      "               random_state=4945, reg_alpha=0.0, reg_lambda=0.0, subsample=1.0,\n",
      "               subsample_for_bin=200000, subsample_freq=0)\n"
     ]
    }
   ],
   "source": [
    "#αναφορά των υπερπαραμέτρων του μοντέλου με την υψηλότερη απόδοση\n",
    "print(best)"
   ]
  },
  {
   "cell_type": "code",
   "execution_count": 16,
   "metadata": {},
   "outputs": [
    {
     "data": {
      "application/vnd.jupyter.widget-view+json": {
       "model_id": "3b65d3778d33470099e59cbbc7aa3c40",
       "version_major": 2,
       "version_minor": 0
      },
      "text/plain": [
       "interactive(children=(ToggleButtons(description='Plot Type:', icons=('',), options=(('Pipeline Plot', 'pipelin…"
      ]
     },
     "metadata": {},
     "output_type": "display_data"
    }
   ],
   "source": [
    "#μέτρα αξιολόγησης του μοντέλου με την υψηλότερη απόδοση\n",
    "evaluate_model(best)"
   ]
  }
 ],
 "metadata": {
  "kernelspec": {
   "display_name": "Python 3",
   "language": "python",
   "name": "python3"
  },
  "language_info": {
   "codemirror_mode": {
    "name": "ipython",
    "version": 3
   },
   "file_extension": ".py",
   "mimetype": "text/x-python",
   "name": "python",
   "nbconvert_exporter": "python",
   "pygments_lexer": "ipython3",
   "version": "3.11.9"
  },
  "vscode": {
   "interpreter": {
    "hash": "3b7e9cb8e453d6cda0fe8c8dd13f891a1f09162f0e7c66ffeae7751a7aecf00d"
   }
  }
 },
 "nbformat": 4,
 "nbformat_minor": 4
}
