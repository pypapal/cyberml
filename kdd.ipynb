{
  "cells": [
    {
      "cell_type": "code",
      "execution_count": null,
      "metadata": {
        "colab": {
          "base_uri": "https://localhost:8080/"
        },
        "id": "nQ8F8vMvpelr",
        "outputId": "9ccc39ab-f858-47f5-e28b-f87edbc98ad2"
      },
      "outputs": [
        {
          "output_type": "stream",
          "name": "stdout",
          "text": [
            "Drive already mounted at /content/drive; to attempt to forcibly remount, call drive.mount(\"/content/drive\", force_remount=True).\n"
          ]
        }
      ],
      "source": [
        "from google.colab import drive\n",
        "drive.mount('/content/drive')\n"
      ]
    },
    {
      "cell_type": "code",
      "source": [
        "import sys\n",
        "sys.path.append('/content/drive/My Drive/Colab Notebooks/models')\n"
      ],
      "metadata": {
        "id": "lEv9k9eh_vs_"
      },
      "execution_count": null,
      "outputs": []
    },
    {
      "cell_type": "code",
      "source": [
        "import pandas as pd\n",
        "import numpy as np\n",
        "\n",
        "import matplotlib.pyplot as plt\n",
        "from tensorflow.keras.utils import plot_model, to_categorical\n",
        "from sklearn.preprocessing import OneHotEncoder, StandardScaler\n",
        "from sklearn.compose import ColumnTransformer\n",
        "from sklearn.model_selection import train_test_split\n",
        "from sklearn.metrics import accuracy_score, recall_score, precision_score, f1_score, classification_report, confusion_matrix, ConfusionMatrixDisplay\n",
        "from models_ddos import model_conv1D\n"
      ],
      "metadata": {
        "id": "rbo5Q324_pzS"
      },
      "execution_count": null,
      "outputs": []
    },
    {
      "cell_type": "code",
      "execution_count": null,
      "metadata": {
        "id": "xXmDSByzpelt",
        "colab": {
          "base_uri": "https://localhost:8080/"
        },
        "outputId": "b2c0864b-6797-48f0-a176-418f63c6049c"
      },
      "outputs": [
        {
          "output_type": "stream",
          "name": "stdout",
          "text": [
            "['normal.' 'buffer_overflow.' 'loadmodule.' 'perl.' 'neptune.' 'smurf.'\n",
            " 'guess_passwd.' 'pod.' 'teardrop.' 'portsweep.' 'ipsweep.' 'land.'\n",
            " 'ftp_write.' 'back.' 'imap.' 'satan.' 'phf.' 'nmap.' 'multihop.'\n",
            " 'warezmaster.' 'warezclient.' 'spy.' 'rootkit.']\n",
            "(494021, 42)\n"
          ]
        }
      ],
      "source": [
        "# Define the feature names\n",
        "\n",
        "features = [\n",
        "    'duration', 'protocol_type', 'service', 'flag', 'src_bytes', 'dst_bytes',\n",
        "    'land', 'wrong_fragment', 'urgent', 'hot', 'num_failed_logins', 'logged_in',\n",
        "    'num_compromised', 'root_shell', 'su_attempted', 'num_root', 'num_file_creations',\n",
        "    'num_shells', 'num_access_files', 'num_outbound_cmds', 'is_host_login', 'is_guest_login',\n",
        "    'count', 'srv_count', 'serror_rate', 'srv_serror_rate', 'rerror_rate', 'srv_rerror_rate',\n",
        "    'same_srv_rate', 'diff_srv_rate', 'srv_diff_host_rate', 'dst_host_count', 'dst_host_srv_count',\n",
        "    'dst_host_same_srv_rate', 'dst_host_diff_srv_rate', 'dst_host_same_src_port_rate',\n",
        "    'dst_host_srv_diff_host_rate', 'dst_host_serror_rate', 'dst_host_srv_serror_rate',\n",
        "    'dst_host_rerror_rate', 'dst_host_srv_rerror_rate', 'label'\n",
        "]\n",
        "\n",
        "# Load the KDD-CUP-99 dataset\n",
        "\n",
        "dataset = pd.read_csv('/content/drive/My Drive/Colab Notebooks/kddcup.data_10_percent_corrected', header=None)\n",
        "\n",
        "# Add the feature names\n",
        "\n",
        "dataset.columns = features\n",
        "\n",
        "distinct_labels = dataset['label'].unique()\n",
        "\n",
        "# Print the distinct labels\n",
        "\n",
        "print(distinct_labels)\n",
        "print(dataset.shape)\n"
      ]
    },
    {
      "cell_type": "code",
      "source": [
        "# Mapping of distinct attack types\n",
        "\n",
        "attack_mapping = {\n",
        "    'back.': 0, 'buffer_overflow.': 1, 'ftp_write.': 2, 'guess_passwd.': 3, 'imap.': 4, 'ipsweep.': 5, 'land.': 6, 'loadmodule.': 7, 'multihop.': 8, 'neptune.': 9, 'nmap.': 10, 'normal.': 11, 'perl.': 12, 'phf.': 13, 'pod.': 14, 'portsweep.': 15, 'rootkit.': 16, 'satan.': 17, 'smurf.': 18, 'spy.': 19, 'teardrop.': 20, 'warezclient.': 21, 'warezmaster.': 22\n",
        "}\n",
        "\n",
        "# Function to get attack type\n",
        "\n",
        "def get_key(val):\n",
        "    for key, value in attack_mapping.items():\n",
        "        if value == val:\n",
        "            return key\n",
        "\n",
        "# Replace attack types with indices\n",
        "\n",
        "dataset['label'] = dataset['label'].replace(attack_mapping)\n",
        "\n",
        "nclass = dataset['label'].nunique()\n",
        "print(f'The number of distinct labels is: {nclass}')\n",
        "print(dataset['label'].value_counts())\n"
      ],
      "metadata": {
        "colab": {
          "base_uri": "https://localhost:8080/"
        },
        "id": "kjwbCGd3RQwc",
        "outputId": "56fa7ccd-9079-4c13-88d3-0b8d48bf3b9c"
      },
      "execution_count": null,
      "outputs": [
        {
          "output_type": "stream",
          "name": "stdout",
          "text": [
            "The number of distinct labels is: 23\n",
            "label\n",
            "18    280790\n",
            "9     107201\n",
            "11     97278\n",
            "0       2203\n",
            "17      1589\n",
            "5       1247\n",
            "15      1040\n",
            "21      1020\n",
            "20       979\n",
            "14       264\n",
            "10       231\n",
            "3         53\n",
            "1         30\n",
            "6         21\n",
            "22        20\n",
            "4         12\n",
            "16        10\n",
            "7          9\n",
            "2          8\n",
            "8          7\n",
            "13         4\n",
            "12         3\n",
            "19         2\n",
            "Name: count, dtype: int64\n"
          ]
        }
      ]
    },
    {
      "cell_type": "code",
      "source": [
        "# Define categorical / numeric features\n",
        "\n",
        "target_column = ['label']\n",
        "features = dataset.columns.difference(target_column)\n",
        "\n",
        "categorical_features = ['protocol_type', 'service', 'flag']\n",
        "numeric_features = dataset.columns.difference(categorical_features).drop(target_column)\n"
      ],
      "metadata": {
        "id": "BZjCsTNCUCxv"
      },
      "execution_count": null,
      "outputs": []
    },
    {
      "cell_type": "code",
      "source": [
        "# Define one-hot encoding / standard scaling to categorical / numeric features resp.\n",
        "\n",
        "preprocessor = ColumnTransformer(\n",
        "    transformers=[\n",
        "        ('cat', OneHotEncoder(), categorical_features),\n",
        "        ('num', StandardScaler(), numeric_features)\n",
        "    ])\n",
        "\n",
        "# Apply the transformations\n",
        "\n",
        "X = pd.DataFrame(preprocessor.fit_transform(dataset[features]))\n",
        "y = dataset[target_column]\n",
        "\n",
        "# Display the shape of the transformed data\n",
        "\n",
        "print(X.shape)\n",
        "print(y.shape)"
      ],
      "metadata": {
        "colab": {
          "base_uri": "https://localhost:8080/"
        },
        "id": "UGTVEojgUvlG",
        "outputId": "ce865de0-2065-4991-9e96-3da74acb4bf7"
      },
      "execution_count": null,
      "outputs": [
        {
          "output_type": "stream",
          "name": "stdout",
          "text": [
            "(494021, 118)\n",
            "(494021, 1)\n"
          ]
        }
      ]
    },
    {
      "cell_type": "code",
      "source": [
        "# Split data into training and test sets\n",
        "\n",
        "X_train, X_test, y_train_ini, y_test_ini = train_test_split(X, y, test_size=0.30, random_state=42)\n",
        "\n",
        "# Apply one-hot encoding to targets\n",
        "\n",
        "y_train = to_categorical(y_train_ini, nclass)\n",
        "y_test = to_categorical(y_test_ini, nclass)\n",
        "\n",
        "# Display the shape of the training / test sets\n",
        "\n",
        "print(X_train.shape)\n",
        "print(X_test.shape)\n",
        "print(y_train.shape)\n",
        "print(y_test.shape)\n"
      ],
      "metadata": {
        "id": "mZijaAJ0XLMh",
        "colab": {
          "base_uri": "https://localhost:8080/"
        },
        "outputId": "9e2e8ede-a85a-4a01-a2c9-21ca20ccb939"
      },
      "execution_count": null,
      "outputs": [
        {
          "output_type": "stream",
          "name": "stdout",
          "text": [
            "(345814, 118)\n",
            "(148207, 118)\n",
            "(345814, 23)\n",
            "(148207, 23)\n"
          ]
        }
      ]
    },
    {
      "cell_type": "code",
      "source": [
        "# Set model hyperparameters\n",
        "\n",
        "lr = 1e-4\n",
        "N = 64\n",
        "inshape = X_train.shape[1]\n",
        "\n",
        "# Define model\n",
        "\n",
        "model = model_conv1D(lr=lr,N=N,inshape=inshape,nclass=nclass)\n",
        "\n",
        "# Set threshold proba\n",
        "\n",
        "thresh_proba = 0.995\n",
        "\n",
        "# Set number of epochs and batch size\n",
        "\n",
        "number_of_epochs = 1\n",
        "batch_size = 10171\n"
      ],
      "metadata": {
        "id": "tZsinJoNXp3V"
      },
      "execution_count": null,
      "outputs": []
    },
    {
      "cell_type": "code",
      "source": [
        "# Process continuos training through batches ( number of epochs can vary )\n",
        "\n",
        "for epoch in range(1, number_of_epochs+1):\n",
        "\n",
        "    print(f\"Epoch {epoch} / {number_of_epochs}\")\n",
        "\n",
        "    for i in range(0, len(X_train), batch_size):\n",
        "\n",
        "        iteration = int(i / batch_size + 1)\n",
        "\n",
        "        X_batch = X_train[i : i + batch_size]\n",
        "        y_batch = y_train[i : i + batch_size]\n",
        "\n",
        "        model.fit(X_batch, y_batch)\n",
        "\n",
        "        pred = model.predict(X_test)\n",
        "        y_pred = pred.argmax(axis=-1)\n",
        "\n",
        "        attack_types = dict()\n",
        "        for k in range(pred.shape[0]):\n",
        "            max_class = np.argmax(pred[k])\n",
        "            max_proba = pred[k, max_class]\n",
        "            max_key = get_key(max_class)\n",
        "            if max_key != 'normal.' and max_proba > thresh_proba:\n",
        "                if max_key in attack_types:\n",
        "                    attack_types[max_key] += 1\n",
        "                else:\n",
        "                    attack_types[max_key] = 1\n",
        "\n",
        "        # Sort the dictionary by values in descending order\n",
        "\n",
        "        sorted_attack_types = sorted(attack_types.items(), key=lambda item: -item[1])\n",
        "\n",
        "        print(f\"Epoch {epoch}, Iteration {iteration}, Sorted attack types blocked : {sorted_attack_types}\")\n",
        "\n",
        "    # Epoch results\n",
        "\n",
        "    accuracy = accuracy_score(y_test_ini.astype('int32'), y_pred)\n",
        "    print(f\"Summary results for epoch {epoch}:\")\n",
        "    print(f'Accuracy = {accuracy}')"
      ],
      "metadata": {
        "id": "wgNVtdtYp2fk",
        "colab": {
          "base_uri": "https://localhost:8080/"
        },
        "outputId": "d97477f6-a3fb-490c-9c3e-26e06d8ffb8b"
      },
      "execution_count": null,
      "outputs": [
        {
          "output_type": "stream",
          "name": "stdout",
          "text": [
            "Epoch 1 / 1\n",
            "\u001b[1m318/318\u001b[0m \u001b[32m━━━━━━━━━━━━━━━━━━━━\u001b[0m\u001b[37m\u001b[0m \u001b[1m11s\u001b[0m 30ms/step - acc: 0.9389 - loss: 1.0520\n",
            "\u001b[1m4632/4632\u001b[0m \u001b[32m━━━━━━━━━━━━━━━━━━━━\u001b[0m\u001b[37m\u001b[0m \u001b[1m31s\u001b[0m 7ms/step\n",
            "Epoch 1, Iteration 1, Sorted attack types blocked : [('smurf.', 80538), ('neptune.', 25415), ('guess_passwd.', 1)]\n",
            "\u001b[1m318/318\u001b[0m \u001b[32m━━━━━━━━━━━━━━━━━━━━\u001b[0m\u001b[37m\u001b[0m \u001b[1m8s\u001b[0m 24ms/step - acc: 0.9897 - loss: 0.0446\n",
            "\u001b[1m4632/4632\u001b[0m \u001b[32m━━━━━━━━━━━━━━━━━━━━\u001b[0m\u001b[37m\u001b[0m \u001b[1m32s\u001b[0m 7ms/step\n",
            "Epoch 1, Iteration 2, Sorted attack types blocked : [('smurf.', 84253), ('neptune.', 25728), ('buffer_overflow.', 12), ('guess_passwd.', 11), ('back.', 7)]\n",
            "\u001b[1m318/318\u001b[0m \u001b[32m━━━━━━━━━━━━━━━━━━━━\u001b[0m\u001b[37m\u001b[0m \u001b[1m9s\u001b[0m 27ms/step - acc: 0.9942 - loss: 0.0226\n",
            "\u001b[1m4632/4632\u001b[0m \u001b[32m━━━━━━━━━━━━━━━━━━━━\u001b[0m\u001b[37m\u001b[0m \u001b[1m32s\u001b[0m 7ms/step\n",
            "Epoch 1, Iteration 3, Sorted attack types blocked : [('smurf.', 84266), ('neptune.', 31324), ('ipsweep.', 79)]\n",
            "\u001b[1m318/318\u001b[0m \u001b[32m━━━━━━━━━━━━━━━━━━━━\u001b[0m\u001b[37m\u001b[0m \u001b[1m8s\u001b[0m 27ms/step - acc: 0.9957 - loss: 0.0184\n",
            "\u001b[1m4632/4632\u001b[0m \u001b[32m━━━━━━━━━━━━━━━━━━━━\u001b[0m\u001b[37m\u001b[0m \u001b[1m34s\u001b[0m 7ms/step\n",
            "Epoch 1, Iteration 4, Sorted attack types blocked : [('smurf.', 84265), ('neptune.', 31659), ('ipsweep.', 92), ('warezclient.', 91), ('portsweep.', 22), ('guess_passwd.', 11), ('land.', 5)]\n",
            "\u001b[1m318/318\u001b[0m \u001b[32m━━━━━━━━━━━━━━━━━━━━\u001b[0m\u001b[37m\u001b[0m \u001b[1m10s\u001b[0m 31ms/step - acc: 0.9954 - loss: 0.0231\n",
            "\u001b[1m4632/4632\u001b[0m \u001b[32m━━━━━━━━━━━━━━━━━━━━\u001b[0m\u001b[37m\u001b[0m \u001b[1m32s\u001b[0m 7ms/step\n",
            "Epoch 1, Iteration 5, Sorted attack types blocked : [('smurf.', 84263), ('neptune.', 31947), ('ipsweep.', 71), ('portsweep.', 23), ('land.', 5), ('back.', 2)]\n",
            "\u001b[1m318/318\u001b[0m \u001b[32m━━━━━━━━━━━━━━━━━━━━\u001b[0m\u001b[37m\u001b[0m \u001b[1m10s\u001b[0m 31ms/step - acc: 0.9990 - loss: 0.0061\n",
            "\u001b[1m4632/4632\u001b[0m \u001b[32m━━━━━━━━━━━━━━━━━━━━\u001b[0m\u001b[37m\u001b[0m \u001b[1m31s\u001b[0m 7ms/step\n",
            "Epoch 1, Iteration 6, Sorted attack types blocked : [('smurf.', 84267), ('neptune.', 31828), ('portsweep.', 30), ('land.', 5), ('back.', 5), ('guess_passwd.', 2)]\n",
            "\u001b[1m318/318\u001b[0m \u001b[32m━━━━━━━━━━━━━━━━━━━━\u001b[0m\u001b[37m\u001b[0m \u001b[1m9s\u001b[0m 28ms/step - acc: 0.9973 - loss: 0.0178\n",
            "\u001b[1m4632/4632\u001b[0m \u001b[32m━━━━━━━━━━━━━━━━━━━━\u001b[0m\u001b[37m\u001b[0m \u001b[1m31s\u001b[0m 7ms/step\n",
            "Epoch 1, Iteration 7, Sorted attack types blocked : [('smurf.', 84281), ('neptune.', 31765), ('ipsweep.', 346), ('portsweep.', 125), ('teardrop.', 84), ('back.', 15), ('guess_passwd.', 11), ('land.', 5)]\n",
            "\u001b[1m318/318\u001b[0m \u001b[32m━━━━━━━━━━━━━━━━━━━━\u001b[0m\u001b[37m\u001b[0m \u001b[1m8s\u001b[0m 25ms/step - acc: 0.9979 - loss: 0.0118\n",
            "\u001b[1m4632/4632\u001b[0m \u001b[32m━━━━━━━━━━━━━━━━━━━━\u001b[0m\u001b[37m\u001b[0m \u001b[1m33s\u001b[0m 7ms/step\n",
            "Epoch 1, Iteration 8, Sorted attack types blocked : [('smurf.', 84273), ('neptune.', 31777), ('portsweep.', 136), ('ipsweep.', 71), ('buffer_overflow.', 17), ('guess_passwd.', 11), ('back.', 8), ('land.', 5)]\n",
            "\u001b[1m318/318\u001b[0m \u001b[32m━━━━━━━━━━━━━━━━━━━━\u001b[0m\u001b[37m\u001b[0m \u001b[1m10s\u001b[0m 31ms/step - acc: 0.9984 - loss: 0.0096\n",
            "\u001b[1m4632/4632\u001b[0m \u001b[32m━━━━━━━━━━━━━━━━━━━━\u001b[0m\u001b[37m\u001b[0m \u001b[1m32s\u001b[0m 7ms/step\n",
            "Epoch 1, Iteration 9, Sorted attack types blocked : [('smurf.', 84267), ('neptune.', 31963), ('teardrop.', 298), ('ipsweep.', 71), ('satan.', 51), ('buffer_overflow.', 17), ('back.', 15), ('guess_passwd.', 11), ('warezmaster.', 7), ('warezclient.', 5), ('land.', 5)]\n",
            "\u001b[1m318/318\u001b[0m \u001b[32m━━━━━━━━━━━━━━━━━━━━\u001b[0m\u001b[37m\u001b[0m \u001b[1m10s\u001b[0m 31ms/step - acc: 0.9979 - loss: 0.0075\n",
            "\u001b[1m4632/4632\u001b[0m \u001b[32m━━━━━━━━━━━━━━━━━━━━\u001b[0m\u001b[37m\u001b[0m \u001b[1m32s\u001b[0m 7ms/step\n",
            "Epoch 1, Iteration 10, Sorted attack types blocked : [('smurf.', 84269), ('neptune.', 31632), ('teardrop.', 299), ('portsweep.', 125), ('warezclient.', 107), ('ipsweep.', 90), ('buffer_overflow.', 17), ('back.', 15), ('guess_passwd.', 11), ('land.', 5)]\n",
            "\u001b[1m318/318\u001b[0m \u001b[32m━━━━━━━━━━━━━━━━━━━━\u001b[0m\u001b[37m\u001b[0m \u001b[1m9s\u001b[0m 27ms/step - acc: 0.9982 - loss: 0.0095\n",
            "\u001b[1m4632/4632\u001b[0m \u001b[32m━━━━━━━━━━━━━━━━━━━━\u001b[0m\u001b[37m\u001b[0m \u001b[1m32s\u001b[0m 7ms/step\n",
            "Epoch 1, Iteration 11, Sorted attack types blocked : [('smurf.', 84281), ('neptune.', 31956), ('teardrop.', 300), ('portsweep.', 123), ('warezclient.', 114), ('ipsweep.', 92), ('buffer_overflow.', 22), ('back.', 15), ('warezmaster.', 12), ('guess_passwd.', 8), ('land.', 5)]\n",
            "\u001b[1m318/318\u001b[0m \u001b[32m━━━━━━━━━━━━━━━━━━━━\u001b[0m\u001b[37m\u001b[0m \u001b[1m10s\u001b[0m 31ms/step - acc: 0.9974 - loss: 0.0190\n",
            "\u001b[1m4632/4632\u001b[0m \u001b[32m━━━━━━━━━━━━━━━━━━━━\u001b[0m\u001b[37m\u001b[0m \u001b[1m31s\u001b[0m 7ms/step\n",
            "Epoch 1, Iteration 12, Sorted attack types blocked : [('smurf.', 84280), ('neptune.', 31653), ('teardrop.', 137), ('portsweep.', 134), ('ipsweep.', 89), ('back.', 15), ('buffer_overflow.', 14), ('guess_passwd.', 11), ('land.', 5), ('warezmaster.', 1)]\n",
            "\u001b[1m318/318\u001b[0m \u001b[32m━━━━━━━━━━━━━━━━━━━━\u001b[0m\u001b[37m\u001b[0m \u001b[1m9s\u001b[0m 28ms/step - acc: 0.9976 - loss: 0.0349\n",
            "\u001b[1m4632/4632\u001b[0m \u001b[32m━━━━━━━━━━━━━━━━━━━━\u001b[0m\u001b[37m\u001b[0m \u001b[1m33s\u001b[0m 7ms/step\n",
            "Epoch 1, Iteration 13, Sorted attack types blocked : [('smurf.', 84280), ('neptune.', 31961), ('teardrop.', 290), ('portsweep.', 100), ('ipsweep.', 87), ('back.', 15), ('buffer_overflow.', 12), ('guess_passwd.', 11), ('land.', 5)]\n",
            "\u001b[1m318/318\u001b[0m \u001b[32m━━━━━━━━━━━━━━━━━━━━\u001b[0m\u001b[37m\u001b[0m \u001b[1m10s\u001b[0m 32ms/step - acc: 0.9983 - loss: 0.0073\n",
            "\u001b[1m4632/4632\u001b[0m \u001b[32m━━━━━━━━━━━━━━━━━━━━\u001b[0m\u001b[37m\u001b[0m \u001b[1m32s\u001b[0m 7ms/step\n",
            "Epoch 1, Iteration 14, Sorted attack types blocked : [('smurf.', 84307), ('neptune.', 31817), ('teardrop.', 298), ('portsweep.', 239), ('warezclient.', 98), ('ipsweep.', 71), ('back.', 15), ('buffer_overflow.', 12), ('guess_passwd.', 11), ('land.', 5)]\n",
            "\u001b[1m318/318\u001b[0m \u001b[32m━━━━━━━━━━━━━━━━━━━━\u001b[0m\u001b[37m\u001b[0m \u001b[1m9s\u001b[0m 28ms/step - acc: 0.9979 - loss: 0.0160\n",
            "\u001b[1m4632/4632\u001b[0m \u001b[32m━━━━━━━━━━━━━━━━━━━━\u001b[0m\u001b[37m\u001b[0m \u001b[1m32s\u001b[0m 7ms/step\n",
            "Epoch 1, Iteration 15, Sorted attack types blocked : [('smurf.', 84280), ('neptune.', 31927), ('teardrop.', 286), ('portsweep.', 140), ('back.', 15), ('phf.', 12), ('land.', 5), ('warezclient.', 3), ('ipsweep.', 1)]\n",
            "\u001b[1m318/318\u001b[0m \u001b[32m━━━━━━━━━━━━━━━━━━━━\u001b[0m\u001b[37m\u001b[0m \u001b[1m9s\u001b[0m 29ms/step - acc: 0.9979 - loss: 0.0136\n",
            "\u001b[1m4632/4632\u001b[0m \u001b[32m━━━━━━━━━━━━━━━━━━━━\u001b[0m\u001b[37m\u001b[0m \u001b[1m32s\u001b[0m 7ms/step\n",
            "Epoch 1, Iteration 16, Sorted attack types blocked : [('smurf.', 84252), ('neptune.', 31968), ('satan.', 334), ('portsweep.', 119), ('teardrop.', 119), ('back.', 14), ('land.', 5), ('ipsweep.', 1), ('warezclient.', 1)]\n",
            "\u001b[1m318/318\u001b[0m \u001b[32m━━━━━━━━━━━━━━━━━━━━\u001b[0m\u001b[37m\u001b[0m \u001b[1m10s\u001b[0m 31ms/step - acc: 0.9982 - loss: 0.0396\n",
            "\u001b[1m4632/4632\u001b[0m \u001b[32m━━━━━━━━━━━━━━━━━━━━\u001b[0m\u001b[37m\u001b[0m \u001b[1m32s\u001b[0m 7ms/step\n",
            "Epoch 1, Iteration 17, Sorted attack types blocked : [('smurf.', 84289), ('neptune.', 31671), ('satan.', 326), ('portsweep.', 120), ('teardrop.', 76), ('ipsweep.', 74), ('back.', 15), ('warezmaster.', 7), ('land.', 5), ('warezclient.', 3), ('phf.', 2)]\n",
            "\u001b[1m318/318\u001b[0m \u001b[32m━━━━━━━━━━━━━━━━━━━━\u001b[0m\u001b[37m\u001b[0m \u001b[1m8s\u001b[0m 26ms/step - acc: 0.9989 - loss: 0.0055\n",
            "\u001b[1m4632/4632\u001b[0m \u001b[32m━━━━━━━━━━━━━━━━━━━━\u001b[0m\u001b[37m\u001b[0m \u001b[1m33s\u001b[0m 7ms/step\n",
            "Epoch 1, Iteration 18, Sorted attack types blocked : [('smurf.', 84292), ('neptune.', 31911), ('teardrop.', 298), ('satan.', 288), ('portsweep.', 127), ('ipsweep.', 71), ('back.', 15), ('warezmaster.', 7), ('warezclient.', 5), ('land.', 5), ('phf.', 2), ('guess_passwd.', 1)]\n",
            "\u001b[1m318/318\u001b[0m \u001b[32m━━━━━━━━━━━━━━━━━━━━\u001b[0m\u001b[37m\u001b[0m \u001b[1m8s\u001b[0m 25ms/step - acc: 0.9985 - loss: 0.0085\n",
            "\u001b[1m4632/4632\u001b[0m \u001b[32m━━━━━━━━━━━━━━━━━━━━\u001b[0m\u001b[37m\u001b[0m \u001b[1m32s\u001b[0m 7ms/step\n",
            "Epoch 1, Iteration 19, Sorted attack types blocked : [('smurf.', 84309), ('neptune.', 31394), ('teardrop.', 291), ('portsweep.', 204), ('back.', 124), ('ipsweep.', 89), ('guess_passwd.', 10), ('warezmaster.', 7), ('land.', 5), ('warezclient.', 2), ('phf.', 2)]\n",
            "\u001b[1m318/318\u001b[0m \u001b[32m━━━━━━━━━━━━━━━━━━━━\u001b[0m\u001b[37m\u001b[0m \u001b[1m9s\u001b[0m 27ms/step - acc: 0.9984 - loss: 0.0112\n",
            "\u001b[1m4632/4632\u001b[0m \u001b[32m━━━━━━━━━━━━━━━━━━━━\u001b[0m\u001b[37m\u001b[0m \u001b[1m32s\u001b[0m 7ms/step\n",
            "Epoch 1, Iteration 20, Sorted attack types blocked : [('smurf.', 84282), ('neptune.', 31822), ('satan.', 247), ('portsweep.', 190), ('teardrop.', 95), ('back.', 18), ('buffer_overflow.', 12), ('guess_passwd.', 10), ('land.', 5), ('warezclient.', 3), ('pod.', 2), ('ipsweep.', 1)]\n",
            "\u001b[1m318/318\u001b[0m \u001b[32m━━━━━━━━━━━━━━━━━━━━\u001b[0m\u001b[37m\u001b[0m \u001b[1m10s\u001b[0m 30ms/step - acc: 0.9985 - loss: 0.0086\n",
            "\u001b[1m4632/4632\u001b[0m \u001b[32m━━━━━━━━━━━━━━━━━━━━\u001b[0m\u001b[37m\u001b[0m \u001b[1m32s\u001b[0m 7ms/step\n",
            "Epoch 1, Iteration 21, Sorted attack types blocked : [('smurf.', 84309), ('neptune.', 31930), ('teardrop.', 297), ('portsweep.', 140), ('back.', 16), ('guess_passwd.', 10), ('warezclient.', 6), ('land.', 5), ('ipsweep.', 4)]\n",
            "\u001b[1m318/318\u001b[0m \u001b[32m━━━━━━━━━━━━━━━━━━━━\u001b[0m\u001b[37m\u001b[0m \u001b[1m10s\u001b[0m 31ms/step - acc: 0.9981 - loss: 0.0094\n",
            "\u001b[1m4632/4632\u001b[0m \u001b[32m━━━━━━━━━━━━━━━━━━━━\u001b[0m\u001b[37m\u001b[0m \u001b[1m32s\u001b[0m 7ms/step\n",
            "Epoch 1, Iteration 22, Sorted attack types blocked : [('smurf.', 84299), ('neptune.', 31938), ('satan.', 300), ('teardrop.', 242), ('portsweep.', 191), ('warezclient.', 94), ('ipsweep.', 86), ('back.', 42), ('guess_passwd.', 11), ('multihop.', 5), ('land.', 5)]\n",
            "\u001b[1m318/318\u001b[0m \u001b[32m━━━━━━━━━━━━━━━━━━━━\u001b[0m\u001b[37m\u001b[0m \u001b[1m8s\u001b[0m 26ms/step - acc: 0.9984 - loss: 0.0064\n",
            "\u001b[1m4632/4632\u001b[0m \u001b[32m━━━━━━━━━━━━━━━━━━━━\u001b[0m\u001b[37m\u001b[0m \u001b[1m32s\u001b[0m 7ms/step\n",
            "Epoch 1, Iteration 23, Sorted attack types blocked : [('smurf.', 84298), ('neptune.', 31959), ('teardrop.', 286), ('portsweep.', 226), ('back.', 64), ('satan.', 51), ('guess_passwd.', 10), ('warezclient.', 6), ('land.', 5), ('rootkit.', 1), ('ipsweep.', 1)]\n",
            "\u001b[1m318/318\u001b[0m \u001b[32m━━━━━━━━━━━━━━━━━━━━\u001b[0m\u001b[37m\u001b[0m \u001b[1m9s\u001b[0m 28ms/step - acc: 0.9981 - loss: 0.0105\n",
            "\u001b[1m4632/4632\u001b[0m \u001b[32m━━━━━━━━━━━━━━━━━━━━\u001b[0m\u001b[37m\u001b[0m \u001b[1m32s\u001b[0m 7ms/step\n",
            "Epoch 1, Iteration 24, Sorted attack types blocked : [('smurf.', 84276), ('neptune.', 31861), ('teardrop.', 298), ('portsweep.', 239), ('back.', 17), ('guess_passwd.', 10), ('warezclient.', 6), ('land.', 5), ('ipsweep.', 1)]\n",
            "\u001b[1m318/318\u001b[0m \u001b[32m━━━━━━━━━━━━━━━━━━━━\u001b[0m\u001b[37m\u001b[0m \u001b[1m10s\u001b[0m 31ms/step - acc: 0.9991 - loss: 0.0050\n",
            "\u001b[1m4632/4632\u001b[0m \u001b[32m━━━━━━━━━━━━━━━━━━━━\u001b[0m\u001b[37m\u001b[0m \u001b[1m32s\u001b[0m 7ms/step\n",
            "Epoch 1, Iteration 25, Sorted attack types blocked : [('smurf.', 84303), ('neptune.', 31956), ('satan.', 361), ('teardrop.', 288), ('portsweep.', 234), ('back.', 79), ('ipsweep.', 74), ('guess_passwd.', 10), ('warezmaster.', 6), ('land.', 5), ('warezclient.', 4)]\n",
            "\u001b[1m318/318\u001b[0m \u001b[32m━━━━━━━━━━━━━━━━━━━━\u001b[0m\u001b[37m\u001b[0m \u001b[1m9s\u001b[0m 27ms/step - acc: 0.9978 - loss: 0.0064\n",
            "\u001b[1m4632/4632\u001b[0m \u001b[32m━━━━━━━━━━━━━━━━━━━━\u001b[0m\u001b[37m\u001b[0m \u001b[1m33s\u001b[0m 7ms/step\n",
            "Epoch 1, Iteration 26, Sorted attack types blocked : [('smurf.', 84278), ('neptune.', 31944), ('teardrop.', 289), ('portsweep.', 234), ('warezclient.', 91), ('back.', 10), ('warezmaster.', 6), ('land.', 5), ('ipsweep.', 1), ('guess_passwd.', 1)]\n",
            "\u001b[1m318/318\u001b[0m \u001b[32m━━━━━━━━━━━━━━━━━━━━\u001b[0m\u001b[37m\u001b[0m \u001b[1m10s\u001b[0m 30ms/step - acc: 0.9970 - loss: 0.0089\n",
            "\u001b[1m4632/4632\u001b[0m \u001b[32m━━━━━━━━━━━━━━━━━━━━\u001b[0m\u001b[37m\u001b[0m \u001b[1m32s\u001b[0m 7ms/step\n",
            "Epoch 1, Iteration 27, Sorted attack types blocked : [('smurf.', 84296), ('neptune.', 31959), ('teardrop.', 292), ('portsweep.', 247), ('back.', 34), ('guess_passwd.', 11), ('warezmaster.', 6), ('land.', 5), ('warezclient.', 1)]\n",
            "\u001b[1m318/318\u001b[0m \u001b[32m━━━━━━━━━━━━━━━━━━━━\u001b[0m\u001b[37m\u001b[0m \u001b[1m10s\u001b[0m 31ms/step - acc: 0.9979 - loss: 0.0076\n",
            "\u001b[1m4632/4632\u001b[0m \u001b[32m━━━━━━━━━━━━━━━━━━━━\u001b[0m\u001b[37m\u001b[0m \u001b[1m32s\u001b[0m 7ms/step\n",
            "Epoch 1, Iteration 28, Sorted attack types blocked : [('smurf.', 84318), ('neptune.', 31951), ('portsweep.', 300), ('teardrop.', 297), ('back.', 96), ('ipsweep.', 74), ('guess_passwd.', 11), ('warezmaster.', 6), ('land.', 5), ('warezclient.', 3)]\n",
            "\u001b[1m318/318\u001b[0m \u001b[32m━━━━━━━━━━━━━━━━━━━━\u001b[0m\u001b[37m\u001b[0m \u001b[1m10s\u001b[0m 31ms/step - acc: 0.9981 - loss: 0.0069\n",
            "\u001b[1m4632/4632\u001b[0m \u001b[32m━━━━━━━━━━━━━━━━━━━━\u001b[0m\u001b[37m\u001b[0m \u001b[1m34s\u001b[0m 7ms/step\n",
            "Epoch 1, Iteration 29, Sorted attack types blocked : [('smurf.', 84298), ('neptune.', 31948), ('satan.', 371), ('teardrop.', 293), ('portsweep.', 225), ('back.', 150), ('ipsweep.', 77), ('guess_passwd.', 11), ('warezmaster.', 6), ('land.', 5), ('warezclient.', 4)]\n",
            "\u001b[1m318/318\u001b[0m \u001b[32m━━━━━━━━━━━━━━━━━━━━\u001b[0m\u001b[37m\u001b[0m \u001b[1m9s\u001b[0m 29ms/step - acc: 0.9984 - loss: 0.0100\n",
            "\u001b[1m4632/4632\u001b[0m \u001b[32m━━━━━━━━━━━━━━━━━━━━\u001b[0m\u001b[37m\u001b[0m \u001b[1m32s\u001b[0m 7ms/step\n",
            "Epoch 1, Iteration 30, Sorted attack types blocked : [('smurf.', 84300), ('neptune.', 31849), ('satan.', 373), ('teardrop.', 290), ('portsweep.', 211), ('ipsweep.', 88), ('back.', 44), ('warezmaster.', 7), ('land.', 5)]\n",
            "\u001b[1m318/318\u001b[0m \u001b[32m━━━━━━━━━━━━━━━━━━━━\u001b[0m\u001b[37m\u001b[0m \u001b[1m9s\u001b[0m 28ms/step - acc: 0.9985 - loss: 0.0061\n",
            "\u001b[1m4632/4632\u001b[0m \u001b[32m━━━━━━━━━━━━━━━━━━━━\u001b[0m\u001b[37m\u001b[0m \u001b[1m33s\u001b[0m 7ms/step\n",
            "Epoch 1, Iteration 31, Sorted attack types blocked : [('smurf.', 84315), ('neptune.', 31862), ('satan.', 355), ('teardrop.', 298), ('portsweep.', 261), ('back.', 104), ('ipsweep.', 86), ('warezclient.', 11), ('warezmaster.', 7), ('land.', 5), ('pod.', 1), ('guess_passwd.', 1)]\n",
            "\u001b[1m318/318\u001b[0m \u001b[32m━━━━━━━━━━━━━━━━━━━━\u001b[0m\u001b[37m\u001b[0m \u001b[1m9s\u001b[0m 27ms/step - acc: 0.9988 - loss: 0.0056\n",
            "\u001b[1m4632/4632\u001b[0m \u001b[32m━━━━━━━━━━━━━━━━━━━━\u001b[0m\u001b[37m\u001b[0m \u001b[1m32s\u001b[0m 7ms/step\n",
            "Epoch 1, Iteration 32, Sorted attack types blocked : [('smurf.', 84317), ('neptune.', 31956), ('back.', 584), ('satan.', 368), ('teardrop.', 298), ('portsweep.', 241), ('ipsweep.', 88), ('warezclient.', 8), ('warezmaster.', 7), ('land.', 5), ('guess_passwd.', 3)]\n",
            "\u001b[1m318/318\u001b[0m \u001b[32m━━━━━━━━━━━━━━━━━━━━\u001b[0m\u001b[37m\u001b[0m \u001b[1m9s\u001b[0m 28ms/step - acc: 0.9981 - loss: 0.0077\n",
            "\u001b[1m4632/4632\u001b[0m \u001b[32m━━━━━━━━━━━━━━━━━━━━\u001b[0m\u001b[37m\u001b[0m \u001b[1m33s\u001b[0m 7ms/step\n",
            "Epoch 1, Iteration 33, Sorted attack types blocked : [('smurf.', 84298), ('neptune.', 31973), ('satan.', 379), ('teardrop.', 297), ('portsweep.', 250), ('ipsweep.', 93), ('back.', 39), ('warezclient.', 10), ('warezmaster.', 7)]\n",
            "\u001b[1m318/318\u001b[0m \u001b[32m━━━━━━━━━━━━━━━━━━━━\u001b[0m\u001b[37m\u001b[0m \u001b[1m10s\u001b[0m 30ms/step - acc: 0.9983 - loss: 0.0084\n",
            "\u001b[1m4632/4632\u001b[0m \u001b[32m━━━━━━━━━━━━━━━━━━━━\u001b[0m\u001b[37m\u001b[0m \u001b[1m32s\u001b[0m 7ms/step\n",
            "Epoch 1, Iteration 34, Sorted attack types blocked : [('smurf.', 84297), ('neptune.', 31948), ('satan.', 300), ('teardrop.', 293), ('portsweep.', 257), ('ipsweep.', 85), ('back.', 49), ('warezclient.', 9), ('land.', 3)]\n",
            "Summary results for epoch 1:\n",
            "Accuracy = 0.9989001869007537\n"
          ]
        }
      ]
    }
  ],
  "metadata": {
    "kernelspec": {
      "display_name": "Python 3",
      "language": "python",
      "name": "python3"
    },
    "language_info": {
      "codemirror_mode": {
        "name": "ipython",
        "version": 3
      },
      "file_extension": ".py",
      "mimetype": "text/x-python",
      "name": "python",
      "nbconvert_exporter": "python",
      "pygments_lexer": "ipython3",
      "version": "3.12.4"
    },
    "vscode": {
      "interpreter": {
        "hash": "3b7e9cb8e453d6cda0fe8c8dd13f891a1f09162f0e7c66ffeae7751a7aecf00d"
      }
    },
    "colab": {
      "provenance": []
    }
  },
  "nbformat": 4,
  "nbformat_minor": 0
}